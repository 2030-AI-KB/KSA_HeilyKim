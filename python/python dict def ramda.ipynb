{
 "cells": [
  {
   "cell_type": "code",
   "execution_count": 1,
   "id": "1cc09a58",
   "metadata": {},
   "outputs": [
    {
     "name": "stdout",
     "output_type": "stream",
     "text": [
      "<zip object at 0x00000224FF5419C0>\n",
      "1값은 a입니다\n",
      "2값은 b입니다\n",
      "3값은 c입니다\n"
     ]
    }
   ],
   "source": [
    "##zip\n",
    "num = [1,2,3]\n",
    "ch = ['a','b','c','d']\n",
    "res = zip(num,ch)\n",
    "print(res)\n",
    "for n,c in res:\n",
    "    print(\"%d값은 %s입니다\" %(n,c))"
   ]
  },
  {
   "cell_type": "code",
   "execution_count": 2,
   "id": "203fe47f",
   "metadata": {},
   "outputs": [
    {
     "name": "stdout",
     "output_type": "stream",
     "text": [
      "[1, 2, 3, 4, 5]\n"
     ]
    }
   ],
   "source": [
    "#list comprehesion\n",
    "num_list = [number for number in range(1,6)]\n",
    "print(num_list)"
   ]
  },
  {
   "cell_type": "code",
   "execution_count": 6,
   "id": "0c67baef",
   "metadata": {},
   "outputs": [
    {
     "name": "stdout",
     "output_type": "stream",
     "text": [
      "[1, 3, 5]\n",
      "[1, 3, 5]\n"
     ]
    }
   ],
   "source": [
    "aList = []\n",
    "for num in range(1,6):\n",
    "    if num %2==1:\n",
    "        aList.append(num)\n",
    "print(aList)\n",
    "\n",
    "bList = [num for num in range(1,6) if num %2==1]\n",
    "\n",
    "print(bList)"
   ]
  },
  {
   "cell_type": "code",
   "execution_count": 7,
   "id": "c9aa1871",
   "metadata": {},
   "outputs": [
    {
     "name": "stdout",
     "output_type": "stream",
     "text": [
      "(1, 1)\n",
      "(1, 2)\n",
      "(2, 1)\n",
      "(2, 2)\n",
      "(3, 1)\n",
      "(3, 2)\n"
     ]
    }
   ],
   "source": [
    "row = range(1,4)\n",
    "col = range(1,3)\n",
    "cells = [(r,c) for r in row for c in col] #(r,c) tuple - > cells list\n",
    "for cell in cells:\n",
    "    print(cell)"
   ]
  },
  {
   "cell_type": "code",
   "execution_count": 15,
   "id": "f80f2505",
   "metadata": {},
   "outputs": [
    {
     "name": "stdout",
     "output_type": "stream",
     "text": [
      "[[1, 2, 3], [4, 5, ['00', '01']], [6, 7, 8]]\n",
      "1\n",
      "[4, 5, ['00', '01']]\n",
      "01\n",
      "[6, 7, 8]\n"
     ]
    }
   ],
   "source": [
    "aList = [1,2,3]\n",
    "bList = [4,5,['00','01']]\n",
    "cList = [6,7,8]\n",
    "allList = [aList,bList,cList]\n",
    "print(allList)\n",
    "print(allList[0][0])\n",
    "print(allList[1])\n",
    "print(allList[1][2][1])\n",
    "print(allList[2])"
   ]
  },
  {
   "cell_type": "code",
   "execution_count": 17,
   "id": "3a7f2edc",
   "metadata": {},
   "outputs": [
    {
     "data": {
      "text/plain": [
       "{'sad': '우울', 'happy': '행복쓰'}"
      ]
     },
     "execution_count": 17,
     "metadata": {},
     "output_type": "execute_result"
    }
   ],
   "source": [
    "d = {'sad':'우울','happy':'행복쓰','angry':\"화남쓰\"} #여기선 key라서 '' 넣어야됨\n",
    "d"
   ]
  },
  {
   "cell_type": "code",
   "execution_count": 18,
   "id": "527781a1",
   "metadata": {},
   "outputs": [
    {
     "data": {
      "text/plain": [
       "{'sad': '우울', 'happy': '행복쓰', 'angry': '화남쓰'}"
      ]
     },
     "execution_count": 18,
     "metadata": {},
     "output_type": "execute_result"
    }
   ],
   "source": [
    "feel = dict(sad='우울',happy='행복쓰',angry='화남쓰') #여기선 sad, happy, angry는 변수임\n",
    "feel"
   ]
  },
  {
   "cell_type": "code",
   "execution_count": 22,
   "id": "0d9b160e",
   "metadata": {},
   "outputs": [
    {
     "data": {
      "text/plain": [
       "{3: 1, 1: 5}"
      ]
     },
     "execution_count": 22,
     "metadata": {},
     "output_type": "execute_result"
    }
   ],
   "source": [
    "bList = [[3,4],[1,5]] #list 첫 요소 = key, 두번째 요소 = value\n",
    "dictB = dict(bList)\n",
    "dictB\n",
    "dictB[3]=1111\n",
    "dictB[3]=1\n",
    "dictB"
   ]
  },
  {
   "cell_type": "code",
   "execution_count": 24,
   "id": "6ed10034",
   "metadata": {},
   "outputs": [
    {
     "name": "stdout",
     "output_type": "stream",
     "text": [
      "{'sam': 'f', 'john': 's'}\n",
      "False\n",
      "f\n",
      "dict_keys(['sam', 'john'])\n"
     ]
    }
   ],
   "source": [
    "dictN = {'sam':'f','john':'s'}\n",
    "print(dictN)\n",
    "print('aby' in dictN)\n",
    "print(dictN.get('sam'))\n",
    "print(dictN.keys())"
   ]
  },
  {
   "cell_type": "code",
   "execution_count": 26,
   "id": "1138846f",
   "metadata": {},
   "outputs": [
    {
     "data": {
      "text/plain": [
       "{'a': 'apple', 'b': 'banana', 'c': 'candy'}"
      ]
     },
     "execution_count": 26,
     "metadata": {},
     "output_type": "execute_result"
    }
   ],
   "source": [
    "# dict 결합\n",
    "f = {'a':'apple','b':'banana'}\n",
    "s = {'b':'banana','c':'candy'}\n",
    "{**f,**s}"
   ]
  },
  {
   "cell_type": "code",
   "execution_count": 31,
   "id": "22f130a0",
   "metadata": {},
   "outputs": [
    {
     "name": "stdout",
     "output_type": "stream",
     "text": [
      "{'sam': 'f', 'john': 's'}\n",
      "{'sam': 'f', 'john': 's', 'bob': 't'}\n",
      "True\n"
     ]
    }
   ],
   "source": [
    "dictN = {'sam':'f','john':'s'}\n",
    "print(dictN)\n",
    "dictM = dict(dictN)\n",
    "dictM['bob']='t'\n",
    "print (dictM)\n",
    "print ('sam' in dictM)\n",
    "# del dictN['sam']\n",
    "# dictN.pop('john')\n",
    "# print(dictN)"
   ]
  },
  {
   "cell_type": "code",
   "execution_count": 39,
   "id": "a1cb6a9d",
   "metadata": {},
   "outputs": [
    {
     "name": "stdout",
     "output_type": "stream",
     "text": [
      "deep copy: {'a': 1, 'b': 2, 'c': [3, 4]}\n",
      "normal copy {'a': 1, 'b': 2, 'c': [3, 10]}\n",
      "True\n"
     ]
    }
   ],
   "source": [
    "import copy\n",
    "sig = {'a':1,'b':2,'c':[3,4]}\n",
    "sig_Dcopy = copy.deepcopy(sig)\n",
    "sig_copy = sig.copy()\n",
    "sig['c'][1]=10 # 값을 바꿈\n",
    "print('deep copy:',sig_Dcopy) #원본이 바뀌어도 안 바뀜 => 얜  전체(번지)를 가져와서 복사함 => 따로 나온거임\n",
    "print('normal copy',sig_copy) #바뀜 => 앤 값을 가져와서 복사함\n",
    "print(sig == sig_copy)"
   ]
  },
  {
   "cell_type": "code",
   "execution_count": 40,
   "id": "c2271c71",
   "metadata": {},
   "outputs": [
    {
     "name": "stdout",
     "output_type": "stream",
     "text": [
      "{'l': 1, 'e': 2, 't': 2, 'r': 1, 's': 1}\n"
     ]
    }
   ],
   "source": [
    "words = 'letters'\n",
    "letterCount = {letter: words.count(letter) for letter in words} # 중복될수 없으므로 e,t는 한번만 나오며 카운트는 있는만큼 나옴\n",
    "print(letterCount)"
   ]
  },
  {
   "cell_type": "code",
   "execution_count": 41,
   "id": "f689c238",
   "metadata": {},
   "outputs": [
    {
     "name": "stdout",
     "output_type": "stream",
     "text": [
      "meow\n"
     ]
    }
   ],
   "source": [
    "def makeAsound():\n",
    "    print('meow')\n",
    "makeAsound()"
   ]
  },
  {
   "cell_type": "code",
   "execution_count": 43,
   "id": "e1a0db06",
   "metadata": {},
   "outputs": [
    {
     "data": {
      "text/plain": [
       "'quackquack'"
      ]
     },
     "execution_count": 43,
     "metadata": {},
     "output_type": "execute_result"
    }
   ],
   "source": [
    "def echo(anything):\n",
    "    return anything+''+anything\n",
    "echo('quack')"
   ]
  },
  {
   "cell_type": "code",
   "execution_count": null,
   "id": "6c79759a",
   "metadata": {},
   "outputs": [],
   "source": [
    "def commentary(color):\n",
    "    if color =='red':\n",
    "        erturn \"its a tomato\"\n",
    "    elif color =='green'"
   ]
  },
  {
   "cell_type": "code",
   "execution_count": 45,
   "id": "b7f24cef",
   "metadata": {},
   "outputs": [
    {
     "data": {
      "text/plain": [
       "4"
      ]
     },
     "execution_count": 45,
     "metadata": {},
     "output_type": "execute_result"
    }
   ],
   "source": [
    "def addNum(a,b):\n",
    "    return a+b\n",
    "def minusNum(a,b):\n",
    "    return a-b\n",
    "minusNum(5,1)"
   ]
  },
  {
   "cell_type": "code",
   "execution_count": 61,
   "id": "7f35520f",
   "metadata": {},
   "outputs": [
    {
     "name": "stdout",
     "output_type": "stream",
     "text": [
      "id: abc\n",
      "pw: 123\n",
      "login successful\n"
     ]
    }
   ],
   "source": [
    "def input_data():\n",
    "    inputID = input('id: ')\n",
    "    inputPW = input('pw: ')\n",
    "    return inputID,inputPW\n",
    "def verifi_process(a,b):\n",
    "    oriID = 'abc'\n",
    "    oriPW = '123'\n",
    "    ver = (oriID==inputID or oriPW==inputPW)\n",
    "    return ver\n",
    "login = False\n",
    "while True:\n",
    "    for i in range(1,6):\n",
    "        inputID,inputPW = input_data()\n",
    "        res=verifi_process(inputID,inputPW)\n",
    "        if res:\n",
    "            print('login successful')\n",
    "            break\n",
    "        else:\n",
    "            print('login fail, try gain')\n",
    "    break"
   ]
  },
  {
   "cell_type": "code",
   "execution_count": 71,
   "id": "a2d08084",
   "metadata": {},
   "outputs": [
    {
     "name": "stdout",
     "output_type": "stream",
     "text": [
      "['haloo']\n"
     ]
    }
   ],
   "source": [
    "def works(arg,result=None):\n",
    "    result=[]\n",
    "    result.append(arg)\n",
    "    return result\n",
    "a=works('halo')\n",
    "a=works('haloo')\n",
    "print(a)"
   ]
  },
  {
   "cell_type": "code",
   "execution_count": 69,
   "id": "442ddb06",
   "metadata": {},
   "outputs": [
    {
     "name": "stdout",
     "output_type": "stream",
     "text": [
      "positional tuple: (1,)\n"
     ]
    }
   ],
   "source": [
    "#tuple 만들기\n",
    "def printArgs(*args):\n",
    "    print('positional tuple:',args)\n",
    "printArgs(1)"
   ]
  },
  {
   "cell_type": "code",
   "execution_count": 74,
   "id": "28893ebb",
   "metadata": {},
   "outputs": [
    {
     "name": "stdout",
     "output_type": "stream",
     "text": [
      "keyword arguments:  {'wine': 'merlot', 'entree': 'mutton', 'dessert': 'macaroon'}\n"
     ]
    }
   ],
   "source": [
    "def print_kwargs(**kwargs):\n",
    "    print('keyword arguments: ',kwargs)\n",
    "print_kwargs(wine = 'merlot', entree = 'mutton', dessert = 'macaroon')"
   ]
  },
  {
   "cell_type": "code",
   "execution_count": 83,
   "id": "473ee3ee",
   "metadata": {},
   "outputs": [
    {
     "name": "stdout",
     "output_type": "stream",
     "text": [
      "1\n",
      "2\n",
      "3\n",
      "4\n",
      "5\n",
      "6\n",
      "\n",
      "5\n",
      "6\n",
      "\n",
      "1\n",
      "2\n",
      "3\n"
     ]
    }
   ],
   "source": [
    "def printData(data,*,start=0,end=100):\n",
    "    for value in (data[start:end]):\n",
    "        print(value)\n",
    "data = [1,2,3,4,5,6]\n",
    "printData(data)\n",
    "print('')\n",
    "printData(data,start=4)\n",
    "print('')\n",
    "printData(data,end=3)"
   ]
  },
  {
   "cell_type": "code",
   "execution_count": 84,
   "id": "22b0afd5",
   "metadata": {},
   "outputs": [
    {
     "name": "stdout",
     "output_type": "stream",
     "text": [
      "Help on function echo in module __main__:\n",
      "\n",
      "echo(anything)\n",
      "    echo returns its input arg\n",
      "\n"
     ]
    }
   ],
   "source": [
    "def echo(anything):\n",
    "    'echo returns its input arg'\n",
    "    return anything\n",
    "help(echo)"
   ]
  },
  {
   "cell_type": "code",
   "execution_count": 92,
   "id": "233528e8",
   "metadata": {},
   "outputs": [
    {
     "name": "stdout",
     "output_type": "stream",
     "text": [
      "Thud!\n",
      "Meow!\n",
      "Thud!\n",
      "Hiss!\n"
     ]
    }
   ],
   "source": [
    "def edit_story(words,func): #func => calling a funcname\n",
    "    for word in words:\n",
    "        print(func(word))\n",
    "#def enliven(word):\n",
    "#     return word.capitalize()+'!'\n",
    "stairs = ['thud','meow','thud','hiss']\n",
    "# edit_story(stairs,enliven)\n",
    "edit_story(stairs,lambda word:word.capitalize()+'!') #lamda word: => def function():"
   ]
  },
  {
   "cell_type": "code",
   "execution_count": 101,
   "id": "ff24b98a",
   "metadata": {},
   "outputs": [
    {
     "name": "stdout",
     "output_type": "stream",
     "text": [
      "<function knights.<locals>.inner at 0x00000224817C7EB0>\n",
      "We are the knights who say 'Duck'\n"
     ]
    }
   ],
   "source": [
    "#클로저\n",
    "def knights(saying):\n",
    "    def inner():\n",
    "        return \"We are the knights who say '%s'\"%saying\n",
    "    return inner\n",
    "a = knights('Duck') \n",
    "b = knights('Hasenpfeffer')\n",
    "print(a) #duck이 knights에 들어가지만 inner엔 안들어감\n",
    "print(a()) # a()함으로 a=a(knights('Duck'))이 됨 ==>knight2('Duck')은 a가 가지고있는 변수가 됨==>a가 완전히 종료될때까지 duck이 사라있음"
   ]
  }
 ],
 "metadata": {
  "kernelspec": {
   "display_name": "Python 3 (ipykernel)",
   "language": "python",
   "name": "python3"
  },
  "language_info": {
   "codemirror_mode": {
    "name": "ipython",
    "version": 3
   },
   "file_extension": ".py",
   "mimetype": "text/x-python",
   "name": "python",
   "nbconvert_exporter": "python",
   "pygments_lexer": "ipython3",
   "version": "3.10.9"
  }
 },
 "nbformat": 4,
 "nbformat_minor": 5
}
