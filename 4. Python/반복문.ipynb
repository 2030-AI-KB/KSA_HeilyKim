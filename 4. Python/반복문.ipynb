{
 "cells": [
  {
   "cell_type": "code",
   "execution_count": 1,
   "id": "1f0a7c48",
   "metadata": {},
   "outputs": [
    {
     "name": "stdout",
     "output_type": "stream",
     "text": [
      "1\n",
      "2\n",
      "3\n",
      "4\n",
      "5\n"
     ]
    }
   ],
   "source": [
    "count = 1\n",
    "while count <=5:\n",
    "    print(count)\n",
    "    count+=1"
   ]
  },
  {
   "cell_type": "code",
   "execution_count": 5,
   "id": "4dd72d13",
   "metadata": {},
   "outputs": [
    {
     "name": "stdout",
     "output_type": "stream",
     "text": [
      "str to capitalize [type q to quit]: q\n",
      "종료\n"
     ]
    }
   ],
   "source": [
    "while True:\n",
    "    stuff=input(\"str to capitalize [type q to quit]: \")\n",
    "    if stuff == 'q':\n",
    "        print('종료')\n",
    "        break #탈출\n",
    "    print(stuff.capitalize())"
   ]
  },
  {
   "cell_type": "code",
   "execution_count": 8,
   "id": "217d2770",
   "metadata": {},
   "outputs": [
    {
     "name": "stdout",
     "output_type": "stream",
     "text": [
      "Int, pls [q to quit]q\n"
     ]
    }
   ],
   "source": [
    "#else 어차피 break으로 나가서 필요없다/ cont로 계속 작업 진행되서 굳이 필요없어\n",
    "while True:\n",
    "    value = input(\"Int, pls [q to quit]\")\n",
    "    if value == 'q':\n",
    "        break\n",
    "    number=int(value)\n",
    "    if number %2 ==0: #짝수\n",
    "        continue #짝수면 다시 while 시작\n",
    "    print(number, 'sqr is ', number*number) #(여기서 else 쓰면 짝수이냐 아니냐를 비교하는 코드가 됨)"
   ]
  },
  {
   "cell_type": "code",
   "execution_count": null,
   "id": "33017e31",
   "metadata": {},
   "outputs": [],
   "source": [
    "**for**"
   ]
  },
  {
   "cell_type": "code",
   "execution_count": null,
   "id": "23eb2540",
   "metadata": {},
   "outputs": [],
   "source": [
    "word = 'thud'\n",
    "offset = 0\n",
    "while offset < len(word):\n",
    "    print(word[offset])\n",
    "    offset += 1\n",
    "for letter in word:\n",
    "    print(letter)\n",
    "for letter in range(4):\n",
    "    print(letter)"
   ]
  },
  {
   "cell_type": "code",
   "execution_count": 1,
   "id": "16ce1843",
   "metadata": {},
   "outputs": [
    {
     "ename": "KeyboardInterrupt",
     "evalue": "Interrupted by user",
     "output_type": "error",
     "traceback": [
      "\u001b[1;31m---------------------------------------------------------------------------\u001b[0m",
      "\u001b[1;31mKeyboardInterrupt\u001b[0m                         Traceback (most recent call last)",
      "Cell \u001b[1;32mIn[1], line 9\u001b[0m\n\u001b[0;32m      7\u001b[0m \u001b[38;5;28;01mwhile\u001b[39;00m \u001b[38;5;28;01mTrue\u001b[39;00m:\n\u001b[0;32m      8\u001b[0m     \u001b[38;5;28;01mwhile\u001b[39;00m count\u001b[38;5;241m<\u001b[39m\u001b[38;5;241m6\u001b[39m :\n\u001b[1;32m----> 9\u001b[0m         idd \u001b[38;5;241m=\u001b[39m \u001b[38;5;28;43minput\u001b[39;49m\u001b[43m(\u001b[49m\u001b[38;5;124;43m\"\u001b[39;49m\u001b[38;5;124;43m아이디: \u001b[39;49m\u001b[38;5;124;43m\"\u001b[39;49m\u001b[43m)\u001b[49m\n\u001b[0;32m     10\u001b[0m         password \u001b[38;5;241m=\u001b[39m \u001b[38;5;28minput\u001b[39m(\u001b[38;5;124m\"\u001b[39m\u001b[38;5;124m비밀번호: \u001b[39m\u001b[38;5;124m\"\u001b[39m)\n\u001b[0;32m     11\u001b[0m         \u001b[38;5;28;01mif\u001b[39;00m idd\u001b[38;5;241m==\u001b[39mid_ \u001b[38;5;129;01mand\u001b[39;00m password \u001b[38;5;241m==\u001b[39m pw_:\n",
      "File \u001b[1;32m~\\anaconda3\\lib\\site-packages\\ipykernel\\kernelbase.py:1175\u001b[0m, in \u001b[0;36mKernel.raw_input\u001b[1;34m(self, prompt)\u001b[0m\n\u001b[0;32m   1171\u001b[0m \u001b[38;5;28;01mif\u001b[39;00m \u001b[38;5;129;01mnot\u001b[39;00m \u001b[38;5;28mself\u001b[39m\u001b[38;5;241m.\u001b[39m_allow_stdin:\n\u001b[0;32m   1172\u001b[0m     \u001b[38;5;28;01mraise\u001b[39;00m StdinNotImplementedError(\n\u001b[0;32m   1173\u001b[0m         \u001b[38;5;124m\"\u001b[39m\u001b[38;5;124mraw_input was called, but this frontend does not support input requests.\u001b[39m\u001b[38;5;124m\"\u001b[39m\n\u001b[0;32m   1174\u001b[0m     )\n\u001b[1;32m-> 1175\u001b[0m \u001b[38;5;28;01mreturn\u001b[39;00m \u001b[38;5;28;43mself\u001b[39;49m\u001b[38;5;241;43m.\u001b[39;49m\u001b[43m_input_request\u001b[49m\u001b[43m(\u001b[49m\n\u001b[0;32m   1176\u001b[0m \u001b[43m    \u001b[49m\u001b[38;5;28;43mstr\u001b[39;49m\u001b[43m(\u001b[49m\u001b[43mprompt\u001b[49m\u001b[43m)\u001b[49m\u001b[43m,\u001b[49m\n\u001b[0;32m   1177\u001b[0m \u001b[43m    \u001b[49m\u001b[38;5;28;43mself\u001b[39;49m\u001b[38;5;241;43m.\u001b[39;49m\u001b[43m_parent_ident\u001b[49m\u001b[43m[\u001b[49m\u001b[38;5;124;43m\"\u001b[39;49m\u001b[38;5;124;43mshell\u001b[39;49m\u001b[38;5;124;43m\"\u001b[39;49m\u001b[43m]\u001b[49m\u001b[43m,\u001b[49m\n\u001b[0;32m   1178\u001b[0m \u001b[43m    \u001b[49m\u001b[38;5;28;43mself\u001b[39;49m\u001b[38;5;241;43m.\u001b[39;49m\u001b[43mget_parent\u001b[49m\u001b[43m(\u001b[49m\u001b[38;5;124;43m\"\u001b[39;49m\u001b[38;5;124;43mshell\u001b[39;49m\u001b[38;5;124;43m\"\u001b[39;49m\u001b[43m)\u001b[49m\u001b[43m,\u001b[49m\n\u001b[0;32m   1179\u001b[0m \u001b[43m    \u001b[49m\u001b[43mpassword\u001b[49m\u001b[38;5;241;43m=\u001b[39;49m\u001b[38;5;28;43;01mFalse\u001b[39;49;00m\u001b[43m,\u001b[49m\n\u001b[0;32m   1180\u001b[0m \u001b[43m\u001b[49m\u001b[43m)\u001b[49m\n",
      "File \u001b[1;32m~\\anaconda3\\lib\\site-packages\\ipykernel\\kernelbase.py:1217\u001b[0m, in \u001b[0;36mKernel._input_request\u001b[1;34m(self, prompt, ident, parent, password)\u001b[0m\n\u001b[0;32m   1214\u001b[0m             \u001b[38;5;28;01mbreak\u001b[39;00m\n\u001b[0;32m   1215\u001b[0m \u001b[38;5;28;01mexcept\u001b[39;00m \u001b[38;5;167;01mKeyboardInterrupt\u001b[39;00m:\n\u001b[0;32m   1216\u001b[0m     \u001b[38;5;66;03m# re-raise KeyboardInterrupt, to truncate traceback\u001b[39;00m\n\u001b[1;32m-> 1217\u001b[0m     \u001b[38;5;28;01mraise\u001b[39;00m \u001b[38;5;167;01mKeyboardInterrupt\u001b[39;00m(\u001b[38;5;124m\"\u001b[39m\u001b[38;5;124mInterrupted by user\u001b[39m\u001b[38;5;124m\"\u001b[39m) \u001b[38;5;28;01mfrom\u001b[39;00m \u001b[38;5;28;01mNone\u001b[39;00m\n\u001b[0;32m   1218\u001b[0m \u001b[38;5;28;01mexcept\u001b[39;00m \u001b[38;5;167;01mException\u001b[39;00m:\n\u001b[0;32m   1219\u001b[0m     \u001b[38;5;28mself\u001b[39m\u001b[38;5;241m.\u001b[39mlog\u001b[38;5;241m.\u001b[39mwarning(\u001b[38;5;124m\"\u001b[39m\u001b[38;5;124mInvalid Message:\u001b[39m\u001b[38;5;124m\"\u001b[39m, exc_info\u001b[38;5;241m=\u001b[39m\u001b[38;5;28;01mTrue\u001b[39;00m)\n",
      "\u001b[1;31mKeyboardInterrupt\u001b[0m: Interrupted by user"
     ]
    }
   ],
   "source": [
    "#로그인이 더 중요하게 생각하는 코드\n",
    "# mission. 로그인 하는 방식을 while문으로 만들어주세요.\n",
    "# 로그인에 일정 횟수 실패했을 경우를 구현해야함\n",
    "id_='abc'\n",
    "pw_='1234'\n",
    "count = 1\n",
    "while True:\n",
    "    while count<6 :\n",
    "        idd = input(\"아이디: \")\n",
    "        password = input(\"비밀번호: \")\n",
    "        if idd==id_ and password == pw_:\n",
    "            print(\"로그인 되었습니다.\")\n",
    "            break\n",
    "        print(\"아이디 또는 비밀번호를\", count ,\"회 잘못 입력하셨습니다.\")\n",
    "        count+=1\n",
    "    print(\"본인인증 후 다시 로그인을 시도해주세요.\")\n",
    "    count = 1"
   ]
  },
  {
   "cell_type": "markdown",
   "id": "e0d2a405",
   "metadata": {},
   "source": []
  },
  {
   "cell_type": "code",
   "execution_count": null,
   "id": "10158ca5",
   "metadata": {},
   "outputs": [],
   "source": [
    "#권지연 - 검증을 더 중요하게 생각하는 코드\n",
    "# mission. 로그인 하는 방식을 while문으로 만들어주세요.\n",
    "# 로그인에 일정 횟수 실패했을 경우를 구현해야함\n",
    "ID = 'id'\n",
    "PW = 'pw'\n",
    "count=0\n",
    "login=[input(\"아이디를 입력해주세요.\"),input(\"비밀번호를 입력해주세요.\")]\n",
    "\n",
    "if login[0]==ID and login[1]==PW:\n",
    "    print('로그인에 성공하였습니다.')\n",
    "else:\n",
    "    for count in range(5):\n",
    "        if count==4:\n",
    "            print('로그인 시도 횟수가 5회입니다. 본인인증 후 다시 로그인해주세요.')\n",
    "            break\n",
    "        count+=1\n",
    "        print('아이디/비밀번호가 틀렸습니다. 다시 로그인해주세요.'+'로그인 시도 횟수('+str(count)+'/5)')\n",
    "        login=[input(\"아이디를 입력해주세요.\"),input(\"비밀번호를 입력해주세요.\")]"
   ]
  }
 ],
 "metadata": {
  "kernelspec": {
   "display_name": "Python 3 (ipykernel)",
   "language": "python",
   "name": "python3"
  },
  "language_info": {
   "codemirror_mode": {
    "name": "ipython",
    "version": 3
   },
   "file_extension": ".py",
   "mimetype": "text/x-python",
   "name": "python",
   "nbconvert_exporter": "python",
   "pygments_lexer": "ipython3",
   "version": "3.10.9"
  }
 },
 "nbformat": 4,
 "nbformat_minor": 5
}
