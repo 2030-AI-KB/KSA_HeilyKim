{
 "cells": [
  {
   "cell_type": "code",
   "execution_count": 4,
   "id": "11904abd",
   "metadata": {},
   "outputs": [
    {
     "name": "stdout",
     "output_type": "stream",
     "text": [
      "num1: 5\n",
      "num2: 2\n",
      "몫: 2 나머지: 1\n"
     ]
    }
   ],
   "source": [
    "num1=int(input(\"num1: \"))\n",
    "num2=int(input(\"num2: \"))\n",
    "print(f\"몫: {num1//num2} 나머지: {num1%num2}\")"
   ]
  },
  {
   "cell_type": "code",
   "execution_count": 8,
   "id": "3933c733",
   "metadata": {},
   "outputs": [
    {
     "name": "stdout",
     "output_type": "stream",
     "text": [
      "첫번째 정수 입력: 5\n",
      "두번째 정수 입력: 2\n",
      "몫: 2 나머지: 1\n"
     ]
    }
   ],
   "source": [
    "#선생님꺼\n",
    "n1 = int(input(\"첫번째 정수 입력: \"))\n",
    "n2 = int(input(\"두번째 정수 입력: \"))\n",
    "res = divmod(num1,num2)\n",
    "print(f\"몫: {res[0]} 나머지: {res[1]}\")"
   ]
  },
  {
   "cell_type": "code",
   "execution_count": 13,
   "id": "e7ca850f",
   "metadata": {},
   "outputs": [
    {
     "name": "stdout",
     "output_type": "stream",
     "text": [
      "첫번째 수 입력: 50\n",
      "두번째 수 입력: 3\n",
      "\n",
      "더하기: 50 + 3 = 53\n",
      "빼기: 50 - 3 = 47\n",
      "곱하기: 50 * 3 = 150\n",
      "나누기: 50 / 3 = 16.666666666666668\n"
     ]
    }
   ],
   "source": [
    "#함수안에서 다시 연산하지마삼 \n",
    "n1 = int(input(\"첫번째 수 입력: \"))\n",
    "n2 = int(input(\"두번째 수 입력: \"))\n",
    "print(f\"\\n더하기: {n1} + {n2} = {n1+n2}\")\n",
    "print(f\"빼기: {n1} - {n2} = {n1-n2}\")\n",
    "print(f\"곱하기: {n1} * {n2} = {n1*n2}\")\n",
    "print(f\"나누기: {n1} / {n2} = {n1/n2}\")"
   ]
  },
  {
   "cell_type": "code",
   "execution_count": 17,
   "id": "19657286",
   "metadata": {},
   "outputs": [
    {
     "name": "stdout",
     "output_type": "stream",
     "text": [
      "num1을 입력해주세요. : 50\n",
      "num2를 입력해주세요. : 3\n",
      "\n",
      "두수의 합 :  53\n",
      "두수의 차 :  47\n",
      "두수의 곱 :  150\n",
      "두수의 몫 :  16.666666666666668\n"
     ]
    }
   ],
   "source": [
    "#이렇게 하삼\n",
    "num1 = int(input(\"num1을 입력해주세요. : \"))\n",
    "num2 = int(input(\"num2를 입력해주세요. : \"))\n",
    "add = num1 + num2\n",
    "sub = num1 - num2\n",
    "mul = num1 * num2\n",
    "div = num1 / num2\n",
    "print(\"\\n두수의 합 : \", add)\n",
    "print(\"두수의 차 : \", sub)\n",
    "print(\"두수의 곱 : \", mul)\n",
    "print(\"두수의 몫 : \", div)"
   ]
  },
  {
   "cell_type": "code",
   "execution_count": 33,
   "id": "c6cd925c",
   "metadata": {},
   "outputs": [
    {
     "name": "stdout",
     "output_type": "stream",
     "text": [
      "num1을 입력해주세요. : 5\n",
      "num2를 입력해주세요. : 3\n",
      "num2를 입력해주세요. : -\n",
      "두수의 차 :  2\n"
     ]
    }
   ],
   "source": [
    "#if else 는 꼭 참으로 시작하삼\n",
    "num1 = int(input(\"num1을 입력해주세요. : \"))\n",
    "num2 = int(input(\"num2를 입력해주세요. : \"))\n",
    "a = input(\"num2를 입력해주세요. : \")\n",
    "if a == \"+\":\n",
    "    add = num1 + num2\n",
    "    print (\"두수의 합 : \", add)\n",
    "elif a == \"-\":\n",
    "    sub = num1 - num2\n",
    "    print(\"두수의 차 : \", sub)\n",
    "elif a ==\"*\":    \n",
    "    mul = num1 * num2\n",
    "    print(\"두수의 곱 : \", mul)\n",
    "elif a ==\"/\":\n",
    "    div = num1 / num2\n",
    "    print(\"두수의 몫 : \", div)\n",
    "else:\n",
    "    print(\"똑바로 입력해라\")"
   ]
  },
  {
   "cell_type": "code",
   "execution_count": 18,
   "id": "131bc3cc",
   "metadata": {},
   "outputs": [
    {
     "name": "stdout",
     "output_type": "stream",
     "text": [
      "woe\n"
     ]
    }
   ],
   "source": [
    "diaster = True\n",
    "if diaster:\n",
    "    print(\"woe\")\n",
    "else:\n",
    "    print(\"hehe\")"
   ]
  },
  {
   "cell_type": "code",
   "execution_count": 20,
   "id": "3cbf9e0c",
   "metadata": {},
   "outputs": [
    {
     "name": "stdout",
     "output_type": "stream",
     "text": [
      "It's a yeti\n"
     ]
    }
   ],
   "source": [
    "furry = True\n",
    "large = True\n",
    "if furry:\n",
    "    if large:\n",
    "        print(\"It's a yeti\")\n",
    "    else:\n",
    "        print(\"Its a cat!\")\n",
    "else:\n",
    "    if large:\n",
    "        print(\"Its a whale\")\n",
    "    else:\n",
    "        print(\"Its a human. Or a hairless cat.\")"
   ]
  },
  {
   "cell_type": "code",
   "execution_count": 32,
   "id": "4f86d1f1",
   "metadata": {},
   "outputs": [
    {
     "name": "stdout",
     "output_type": "stream",
     "text": [
      "너 주머니에 얼마있니? :1500\n",
      "커피를 샀나요? (Y/N) : Y\n",
      "커피 사먹으면 니 다리가 고생해!!!!\n"
     ]
    }
   ],
   "source": [
    "money = int(input(\"너 주머니에 얼마있니? :\"))\n",
    "coffee = 1500\n",
    "\n",
    "if money < 1000:\n",
    "    print(\"돈없어 암것도 하지마....\")\n",
    "elif money == 1000:\n",
    "    print(\"커피 안사면 버스라도 탈수있어\")\n",
    "else:\n",
    "    dec = input(\"커피를 샀나요? (Y/N) : \")\n",
    "    if dec == \"Y\" :\n",
    "        money = money - coffee\n",
    "        if money >= 2000 :\n",
    "            print(\"Taxi 타고가세요\")\n",
    "        elif money >= 1000 : \n",
    "            print(\"버스타고 가세요\")\n",
    "        else:\n",
    "            print(\"커피 사먹으면 니 다리가 고생해!!!!\")\n",
    "    else :\n",
    "        if dec == \"N\" :\n",
    "            if money >= 2000 :\n",
    "                print(\"Taxi 타고가세요\")\n",
    "            else:\n",
    "                print(\"버스타고 가세요\")\n",
    "        else:\n",
    "            print(\"잘못입력하셨어요........\")\n",
    "        "
   ]
  },
  {
   "cell_type": "code",
   "execution_count": null,
   "id": "540302fa",
   "metadata": {},
   "outputs": [],
   "source": []
  },
  {
   "cell_type": "code",
   "execution_count": null,
   "id": "7b75a77d",
   "metadata": {},
   "outputs": [],
   "source": []
  }
 ],
 "metadata": {
  "kernelspec": {
   "display_name": "Python 3 (ipykernel)",
   "language": "python",
   "name": "python3"
  },
  "language_info": {
   "codemirror_mode": {
    "name": "ipython",
    "version": 3
   },
   "file_extension": ".py",
   "mimetype": "text/x-python",
   "name": "python",
   "nbconvert_exporter": "python",
   "pygments_lexer": "ipython3",
   "version": "3.10.9"
  }
 },
 "nbformat": 4,
 "nbformat_minor": 5
}
