{
 "cells": [
  {
   "cell_type": "code",
   "execution_count": 3,
   "id": "60c2cee0",
   "metadata": {},
   "outputs": [
    {
     "name": "stdout",
     "output_type": "stream",
     "text": [
      "()\n",
      "('Groucho',)\n",
      "('Groucho',)\n",
      "Groucho\n",
      "('lol', '0', 'fd')\n"
     ]
    }
   ],
   "source": [
    "empty_tuple=()\n",
    "print(empty_tuple)\n",
    "one_marx = 'Groucho',\n",
    "print(one_marx)\n",
    "one_marx = ('Groucho',)\n",
    "print(one_marx)\n",
    "one_marx = ('Groucho') # 콤마 안 찍으면 str이됨\n",
    "print(one_marx)"
   ]
  },
  {
   "cell_type": "code",
   "execution_count": 5,
   "id": "47fbd761",
   "metadata": {},
   "outputs": [
    {
     "name": "stdout",
     "output_type": "stream",
     "text": [
      "('lol', '0', 'fd')\n",
      "(1, 2, 3)\n",
      "(1, '2', 3)\n"
     ]
    }
   ],
   "source": [
    "max_tuple = 'lol','0','fd'\n",
    "print(max_tuple)\n",
    "max_tuple1 = 1,2,3\n",
    "print(max_tuple1)\n",
    "max_tuple2 = 1,'2',3\n",
    "print(max_tuple2)"
   ]
  },
  {
   "cell_type": "code",
   "execution_count": 6,
   "id": "f37ce65f",
   "metadata": {},
   "outputs": [
    {
     "name": "stdout",
     "output_type": "stream",
     "text": [
      "lol 0 fd\n"
     ]
    }
   ],
   "source": [
    "max_tuple = 'lol','0','fd'\n",
    "a,b,c=max_tuple\n",
    "print(a,b,c)"
   ]
  },
  {
   "cell_type": "code",
   "execution_count": 11,
   "id": "15172102",
   "metadata": {},
   "outputs": [
    {
     "name": "stdout",
     "output_type": "stream",
     "text": [
      "True\n",
      "True\n",
      "False\n"
     ]
    }
   ],
   "source": [
    "#리스트 비교\n",
    "a = (7,2,9)\n",
    "b = (7,2,9)\n",
    "print (a==b)\n",
    "print (a<=b)\n",
    "print (a<b)"
   ]
  },
  {
   "cell_type": "code",
   "execution_count": null,
   "id": "ef0978fd",
   "metadata": {},
   "outputs": [],
   "source": [
    "empty_list = []\n",
    "weekdays = ['Mon','Tue','Wed','Thu','Fri']\n",
    "big_birds=['emu','ostrich','cassowary']\n",
    "first_names=['Graham','John','Terry','Terry','Micheal']\n",
    "leap_yrs=[2000,21004,2008]\n",
    "randomness=['Punxsatawney',{'groundhog':'Phil'},'Feb.2']"
   ]
  },
  {
   "cell_type": "code",
   "execution_count": 14,
   "id": "fe96179e",
   "metadata": {},
   "outputs": [
    {
     "data": {
      "text/plain": [
       "['ready', 'fire', 'aim']"
      ]
     },
     "execution_count": 14,
     "metadata": {},
     "output_type": "execute_result"
    }
   ],
   "source": [
    "a_tuple=('ready','fire','aim')\n",
    "list(a_tuple) #리스트로 바꾸기\n",
    "tuple(a_tuple) #튜플로 바꾸기"
   ]
  },
  {
   "cell_type": "code",
   "execution_count": 18,
   "id": "bcd9f6ca",
   "metadata": {},
   "outputs": [
    {
     "name": "stdout",
     "output_type": "stream",
     "text": [
      "A\n",
      "['A', 'B', 'C', 'D']\n",
      "['B', 'C', 'D']\n",
      "['C', 'D']\n",
      "['A', 'B', 'C']\n",
      "['A', 'C']\n",
      "['D', 'B']\n",
      "A\n",
      "B\n",
      "C\n",
      "D\n"
     ]
    }
   ],
   "source": [
    "a = ['A','B','C','D']\n",
    "print(a[0])\n",
    "print(a[:])\n",
    "print(a[1:])\n",
    "print(a[2:])\n",
    "print(a[:-1])\n",
    "print(a[::2]) #처음꺼 포함 2칸띄어서\n",
    "print(a[::-2]) #뒤부터 마지막 포함 2칸띄어서\n",
    "\n",
    "for i in a:\n",
    "    print(i)  #str type반환"
   ]
  },
  {
   "cell_type": "code",
   "execution_count": 28,
   "id": "06fec237",
   "metadata": {},
   "outputs": [
    {
     "name": "stdout",
     "output_type": "stream",
     "text": [
      "[]\n",
      "['A', 'B', 'C', 'D']\n",
      "['A', 'B', 'C', '힝', 'D', '큡']\n"
     ]
    }
   ],
   "source": [
    "a = ['A','B','C','D']\n",
    "print(a[5:])  \n",
    "print(a[-8:])\n",
    "#list는 바로 저장 못 함 (a=a.append() --> X) 전저 append 하고 다시 저장해야됨\n",
    "a.append('큡') # 현제 그 리스트 끝에만 추가(보통 다른 데이터들을 연결에서 씀)\n",
    "a.insert(3,'힝') # 원하는 자리에 넣기\n",
    "print(a)"
   ]
  },
  {
   "cell_type": "code",
   "execution_count": 31,
   "id": "7ccf640c",
   "metadata": {},
   "outputs": [
    {
     "name": "stdout",
     "output_type": "stream",
     "text": [
      "None\n"
     ]
    }
   ],
   "source": [
    "b = []\n",
    "a = ['A','B','C','D']\n",
    "b = a.append('Z') #b 입장에서는 a(obj)를 가져와서 append(function)를 해야됨\n",
    "print(b)"
   ]
  },
  {
   "cell_type": "code",
   "execution_count": 39,
   "id": "6826809d",
   "metadata": {},
   "outputs": [
    {
     "name": "stdout",
     "output_type": "stream",
     "text": [
      "[1, 0, 9, 5]\n"
     ]
    }
   ],
   "source": [
    "numbers = [1,2,3,4,5]\n",
    "numbers[1:4]=[0,9] #=[0,9,null]\n",
    "print(numbers)"
   ]
  },
  {
   "cell_type": "code",
   "execution_count": 43,
   "id": "327f58ac",
   "metadata": {},
   "outputs": [
    {
     "name": "stdout",
     "output_type": "stream",
     "text": [
      "[1, 'w', 'a', 't', '?', 4, 5]\n",
      "[1, 'w', 'a', 't', '?', 4]\n",
      "[1, 'a', 't', '?', 4]\n"
     ]
    }
   ],
   "source": [
    "numbers = [1,2,3,4,5]\n",
    "numbers[1:3]='wat?'\n",
    "print(numbers)\n",
    "del numbers[-1] #메모리 다시 확보해야됨\n",
    "print (numbers)\n",
    "numbers.remove('w') # 값이 리스트에서 빠지지만 그 값은 살아있음 (빼고 넣기를 반복할때 잘 씀-메모리 효율적)\n",
    "print(numbers)"
   ]
  },
  {
   "cell_type": "code",
   "execution_count": 44,
   "id": "d4f6eb9a",
   "metadata": {},
   "outputs": [
    {
     "data": {
      "text/plain": [
       "'d'"
      ]
     },
     "execution_count": 44,
     "metadata": {},
     "output_type": "execute_result"
    }
   ],
   "source": [
    "a = ['a','b','c','d']\n",
    "a.pop() #추출하고 삭제"
   ]
  },
  {
   "cell_type": "code",
   "execution_count": 45,
   "id": "af531445",
   "metadata": {},
   "outputs": [
    {
     "name": "stdout",
     "output_type": "stream",
     "text": [
      "1\n"
     ]
    }
   ],
   "source": [
    "a = ['a','b','c','d']\n",
    "print(a.index('b'))\n"
   ]
  },
  {
   "cell_type": "code",
   "execution_count": 64,
   "id": "80b1a651",
   "metadata": {},
   "outputs": [
    {
     "name": "stdout",
     "output_type": "stream",
     "text": [
      "Zoe*Hermione*Ron\n",
      "['Zoe', 'Hermione', 'Ron']\n",
      "\n",
      " ['Hermione', 'Ron', 'Zoe']\n",
      "['Zoe', 'Hermione', 'Ron']\n",
      "['Hermione', 'Ron', 'Zoe']\n"
     ]
    }
   ],
   "source": [
    "frenz=['Zoe','Hermione','Ron']\n",
    "s='*'\n",
    "joined = s.join(frenz) #list->str 으로 변함\n",
    "print(joined)\n",
    "separated = joined.split(s)  #str->list 으로 변함\n",
    "print(separated)\n",
    "frenz == separated\n",
    "\n",
    "sortedf = sorted(frenz) #복사본\n",
    "print('\\n',sortedf)\n",
    "print(frenz)\n",
    "separated.sort() #내부적으로 정렬\n",
    "print(separated)"
   ]
  },
  {
   "cell_type": "code",
   "execution_count": 69,
   "id": "15bca34a",
   "metadata": {},
   "outputs": [
    {
     "name": "stdout",
     "output_type": "stream",
     "text": [
      "[1, 2, 3]\n",
      "[1, 2, 3]\n",
      "[1, 2, 3]\n"
     ]
    }
   ],
   "source": [
    "######복사하기\n",
    "a=[1,2,3]\n",
    "b=a.copy()\n",
    "c=list(a)\n",
    "d=a[:]\n",
    "print(b)\n",
    "print(c)\n",
    "print(d)"
   ]
  },
  {
   "cell_type": "code",
   "execution_count": 71,
   "id": "07abc443",
   "metadata": {},
   "outputs": [
    {
     "ename": "TypeError",
     "evalue": "'int' object is not subscriptable",
     "output_type": "error",
     "traceback": [
      "\u001b[1;31m---------------------------------------------------------------------------\u001b[0m",
      "\u001b[1;31mTypeError\u001b[0m                                 Traceback (most recent call last)",
      "Cell \u001b[1;32mIn[71], line 3\u001b[0m\n\u001b[0;32m      1\u001b[0m a\u001b[38;5;241m=\u001b[39m[\u001b[38;5;241m1\u001b[39m,\u001b[38;5;241m2\u001b[39m,[\u001b[38;5;241m3\u001b[39m,\u001b[38;5;241m4\u001b[39m]]\n\u001b[0;32m      2\u001b[0m b\u001b[38;5;241m=\u001b[39ma\n\u001b[1;32m----> 3\u001b[0m c\u001b[38;5;241m=\u001b[39m\u001b[43ma\u001b[49m\u001b[43m[\u001b[49m\u001b[38;5;241;43m1\u001b[39;49m\u001b[43m]\u001b[49m\u001b[43m[\u001b[49m\u001b[38;5;241;43m1\u001b[39;49m\u001b[43m]\u001b[49m\n\u001b[0;32m      4\u001b[0m \u001b[38;5;28mprint\u001b[39m(c)\n",
      "\u001b[1;31mTypeError\u001b[0m: 'int' object is not subscriptable"
     ]
    }
   ],
   "source": []
  }
 ],
 "metadata": {
  "kernelspec": {
   "display_name": "Python 3 (ipykernel)",
   "language": "python",
   "name": "python3"
  },
  "language_info": {
   "codemirror_mode": {
    "name": "ipython",
    "version": 3
   },
   "file_extension": ".py",
   "mimetype": "text/x-python",
   "name": "python",
   "nbconvert_exporter": "python",
   "pygments_lexer": "ipython3",
   "version": "3.10.9"
  }
 },
 "nbformat": 4,
 "nbformat_minor": 5
}
