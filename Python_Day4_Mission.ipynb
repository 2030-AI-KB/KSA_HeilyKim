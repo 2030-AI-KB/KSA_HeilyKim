{
 "cells": [
  {
   "cell_type": "code",
   "execution_count": 11,
   "metadata": {
    "colab": {
     "base_uri": "https://localhost:8080/",
     "height": 35
    },
    "id": "w8wUd9XYiJK1",
    "outputId": "0a4a73e1-e0f7-433e-8423-bd1fb09ab136"
   },
   "outputs": [
    {
     "name": "stdout",
     "output_type": "stream",
     "text": [
      "단을 입력해보아라: 3\n",
      "****1단****\n",
      "1x1=1\n",
      "1x2=2\n",
      "1x3=3\n",
      "1x4=4\n",
      "1x5=5\n",
      "1x6=6\n",
      "1x7=7\n",
      "1x8=8\n",
      "1x9=9\n",
      "\n",
      "\n",
      "****2단****\n",
      "2x1=2\n",
      "2x2=4\n",
      "2x3=6\n",
      "2x4=8\n",
      "2x5=10\n",
      "2x6=12\n",
      "2x7=14\n",
      "2x8=16\n",
      "2x9=18\n",
      "\n",
      "\n",
      "****3단****\n",
      "3x1=3\n",
      "3x2=6\n",
      "3x3=9\n",
      "3x4=12\n",
      "3x5=15\n",
      "3x6=18\n",
      "3x7=21\n",
      "3x8=24\n",
      "3x9=27\n",
      "\n",
      "\n"
     ]
    }
   ],
   "source": [
    "#Missoin_1.  구구단프로그램을 작성해주세요. 단을 입력하면 입력받은 단까지 모두 출력해주세요.\n",
    "dan = int(input('단을 입력해보아라: '))\n",
    "for a in range(1,dan+1): \n",
    "    print(f'****{a}단****') #데코레이션\n",
    "    for i in range(1,10): #1~9까지\n",
    "        output = a*i \n",
    "        print(f\"{a}x{i}={output}\")\n",
    "    print('\\n') #데코레이션"
   ]
  },
  {
   "cell_type": "code",
   "execution_count": 14,
   "metadata": {
    "id": "CXEM8Q6lB933"
   },
   "outputs": [
    {
     "name": "stdout",
     "output_type": "stream",
     "text": [
      "1번째 정수 입력: 1\n",
      "2번째 정수 입력: 1\n",
      "3번째 정수 입력: 1\n",
      "4번째 정수 입력: 1\n",
      "5번째 정수 입력: 1\n",
      "6번째 정수 입력: 1\n",
      "7번째 정수 입력: 1\n",
      "8번째 정수 입력: 1\n",
      "9번째 정수 입력: 1\n",
      "10번째 정수 입력: 3\n",
      "11번째 정수 입력: 6\n",
      "12번째 정수 입력: 6\n",
      "13번째 정수 입력: 6\n",
      "14번째 정수 입력: 6\n",
      "15번째 정수 입력: 6\n",
      "16번째 정수 입력: 6\n",
      "17번째 정수 입력: 6\n",
      "18번째 정수 입력: 6\n",
      "19번째 정수 입력: 6\n",
      "20번째 정수 입력: 6\n",
      "홀수의 합:12 짝수의 합:60. 짝수의 합이 더 크다\n"
     ]
    }
   ],
   "source": [
    "#Missoin_2.  20개의 정수를 입력 받아서 짝수와 홀수를 구분하여 저장해주세요. \n",
    "#           저장된 수의 총합이 얼마인지와 짝수의 합이 큰지 홀수의 합이 큰지를 알려주는 코드를 작성해주세요 \n",
    "#리스트 만들기\n",
    "odd = []\n",
    "even = []\n",
    "for i in range(20):\n",
    "    a = int(input(f'{i+1}번째 정수 입력: '))\n",
    "    if a % 2 ==0:   #짝수일때\n",
    "        even.append(a)\n",
    "    else: #홀수일때\n",
    "        odd.append(a)\n",
    "if sum(even) > sum(odd):\n",
    "    print(f'홀수의 합:{sum(odd)} 짝수의 합:{sum(even)}. 짝수의 합이 더 크다')\n",
    "else:\n",
    "    print(f'홀수의 합:{sum(odd)} 짝수의 합:{sum(even)}. 홀수의 합이 더 크다')    "
   ]
  },
  {
   "cell_type": "code",
   "execution_count": 15,
   "metadata": {
    "id": "V40v5PnzCFS1"
   },
   "outputs": [
    {
     "name": "stdout",
     "output_type": "stream",
     "text": [
      "오늘의 우울한 정도를 숫자로 표현한다면? 16\n",
      "오늘의 햄볶는 정도를 숫자로 표현한다면?80\n",
      "지킬앤하이드니?\n"
     ]
    }
   ],
   "source": [
    "#Mission_3. 오늘의 기분을 입력받아서 입력한 기분 값이 10를 넘으면 그 기분에 맞는 내용을 알려주는 코드를 작성해주세요.\n",
    "sadsad=int(input('오늘의 우울한 정도를 숫자로 표현한다면? '))\n",
    "happyhappy = int(input('오늘의 햄볶는 정도를 숫자로 표현한다면?'))\n",
    "if sadsad > 10 and happyhappy > 10:\n",
    "    print('지킬앤하이드니?')\n",
    "elif happyhappy > 10 and sadsad < 10:\n",
    "    print('긍정적이구먼')\n",
    "elif sadsad > 10 and happyhappy < 10 :\n",
    "    print('달달구리먹고 힘내요')\n",
    "else:\n",
    "    print('오늘은 쏘쏘')\n"
   ]
  },
  {
   "cell_type": "code",
   "execution_count": 16,
   "metadata": {
    "id": "9jH4mjmmCGk9",
    "scrolled": true
   },
   "outputs": [
    {
     "name": "stdout",
     "output_type": "stream",
     "text": [
      "1번째 성적 점수를 입력하시오: 100\n",
      "2번째 성적 점수를 입력하시오: 12\n",
      "3번째 성적 점수를 입력하시오: 50\n",
      "4번째 성적 점수를 입력하시오: 60\n",
      "5번째 성적 점수를 입력하시오: 30\n",
      "입력한 성적중 1번째 점수가 가장 높은 100입니다.\n",
      "입력한 성적중 2번째 점수가 가장 낮은 12입니다.\n"
     ]
    }
   ],
   "source": [
    "#Mission_4. 아래의 코드를 보고 입력받은 5개의 성적을 기준을 작성하여 코드를 완성해주세요..\n",
    "#           단, 아래의 코드는 변경이 불가능합니다.\n",
    "scores = [] #리스트 초기화\n",
    "for i in range(5):\n",
    "    re = int(input(f'{i+1}번째 성적 점수를 입력하시오: '))\n",
    "    scores.append(re) #입력받은 성적 리스트에 넣기\n",
    "mx_score = max(scores) #리스트에서 제일 큰 값 저장\n",
    "min_score = min(scores) # 리스트에서 제일 작은 값 저장\n",
    "mx_index = scores.index(mx_score) + 1 #젤 큰값의 인덱스 찾아서 저장\n",
    "min_index = scores.index(min_score) + 1 #젤 작은값의 인덱스 찾아서 저장\n",
    "print( \"입력한 성적중 \"+ str(mx_index) + \"번째 점수가 가장 높은 \"+ str(mx_score) + \"입니다.\")\n",
    "print( \"입력한 성적중 \"+ str(min_index) + \"번째 점수가 가장 낮은 \"+ str(min_score) + \"입니다.\")\n",
    "# 입력한 성적중 #번째 점수가 가장 높은 #점입니다."
   ]
  },
  {
   "cell_type": "code",
   "execution_count": 26,
   "metadata": {
    "id": "ZnLJeuArCKV3"
   },
   "outputs": [
    {
     "data": {
      "text/plain": [
       "3"
      ]
     },
     "execution_count": 26,
     "metadata": {},
     "output_type": "execute_result"
    }
   ],
   "source": [
    "#Mission_5. 아래의 Song의 내용을 분석할 수 있는 코드를 작성하여 정량적 수치를 통해 의견을 작성해주세요..\n",
    "\n",
    "# [의견 작성]\n",
    "# 몰라용\n",
    "\n",
    "\n",
    "song = \"\"\"Fuck you and your mom and your sister and your job and your broke ass car and that shit you call art\n",
    "       fuck you And your friends that i'll never see again everybody but your dog you can all FUCK OFF i swear i meant to mean the best when it ended even try to bite my tongue when you start shit\n",
    "       now you're texting all my friends asking questions hey never even liked you in the first place\"\"\"\n",
    "song2 = song.lower()\n",
    "song2.count('fuck')\n"
   ]
  },
  {
   "cell_type": "code",
   "execution_count": 17,
   "metadata": {
    "id": "SXEYRt6yCNjN"
   },
   "outputs": [
    {
     "name": "stdout",
     "output_type": "stream",
     "text": [
      "너의 이름은? 상아\n",
      "너의 점수는? 88\n",
      "상아 님의 학점은 B 입니다\n"
     ]
    }
   ],
   "source": [
    "#Mission_6. 이름과 점수를 입력하면 학점을 반환하여 저장하는 코드를 작성해주세요.\n",
    "d = {}\n",
    "d['name'] = input('너의 이름은? ') #이름을 d에 저장\n",
    "d['score'] = int(input('너의 점수는? ')) #점수 저장\n",
    "if d['score'] < 60:\n",
    "    d['gpa'] = '한강물 뜨뜨하다' #계산된 학점 저장\n",
    "elif d['score'] <70:\n",
    "    d['gpa'] = 'D'\n",
    "elif d['score'] <80:\n",
    "    d['gpa'] = 'C'\n",
    "elif d['score'] <90:\n",
    "    d['gpa'] = 'B'\n",
    "else:\n",
    "    d['gpa'] = 'A'\n",
    "print(d['name'],\"님의 학점은\",d['gpa'],\"입니다\")\n",
    "\n"
   ]
  },
  {
   "cell_type": "code",
   "execution_count": 18,
   "metadata": {
    "id": "vsnGlBU2CQKL"
   },
   "outputs": [
    {
     "name": "stdout",
     "output_type": "stream",
     "text": [
      "몇번째 항까지 계산할까? 5\n",
      "[1, 1, 2, 3, 5]\n"
     ]
    }
   ],
   "source": [
    "#Mission_7. 피보나치수열은 첫째 및 둘째 항이 1이며 그 뒤의 모든 항은 바로 앞 두 항의 합인 수열이다.\n",
    "#           수열을 코드로 작성해주세요.\n",
    "n = int(input('몇번째 항까지 계산할까? '))\n",
    "p=[None]*(n) #공백리스트로 자리 확보\n",
    "p[0]=1\n",
    "p[1]=1\n",
    "for i in range(2,n): #첫째 및 둘째 항은 이미 1이라서 2부터 시작함\n",
    "    p[i] = p[i-1]+p[i-2]\n",
    "print(p)"
   ]
  },
  {
   "cell_type": "code",
   "execution_count": 3,
   "metadata": {
    "id": "wQMqbee0CTRV"
   },
   "outputs": [
    {
     "name": "stdout",
     "output_type": "stream",
     "text": [
      "233168\n"
     ]
    }
   ],
   "source": [
    "#Missoin_8. 아래의 내용을 보고 결과를 출력하는 코드를 작성해주세요.\n",
    "'''10보다 작은 자연수 중에서 3 또는 5의 배수는 3, 5, 6, 9 이고, 이것을 모두 더하면 23입니다.\n",
    "   1000보다 작은 자연수 중에서 3 또는 5의 배수를 모두 더하면 얼마일까요?'''\n",
    "\n",
    "total = 0\n",
    "for i in range(1,1000): #0은 빼기 (자연수 X)\n",
    "    if i%3==0 or i%5==0:\n",
    "        total+=i\n",
    "print(total)\n"
   ]
  },
  {
   "cell_type": "code",
   "execution_count": 86,
   "metadata": {
    "id": "-zRg-hnmCVBD"
   },
   "outputs": [
    {
     "name": "stdout",
     "output_type": "stream",
     "text": [
      "가위 바위 보![q--나가기]보\n",
      "비겼따\n",
      "가위 바위 보![q--나가기]보\n",
      "니가 졌지롱\n",
      "가위 바위 보![q--나가기]보\n",
      "비겼따\n",
      "가위 바위 보![q--나가기]보\n",
      "니가 졌지롱\n",
      "가위 바위 보![q--나가기]보\n",
      "비겼따\n",
      "가위 바위 보![q--나가기]가위\n",
      "비겼따\n",
      "가위 바위 보![q--나가기]가위\n",
      "니가 졌지롱\n",
      "가위 바위 보![q--나가기]바위\n",
      "니가 졌지롱\n",
      "가위 바위 보![q--나가기]가위\n",
      "비겼따\n",
      "가위 바위 보![q--나가기]보\n",
      "비겼따\n",
      "가위 바위 보![q--나가기]보\n",
      "비겼따\n",
      "가위 바위 보![q--나가기]보\n",
      "니가 졌지롱\n",
      "가위 바위 보![q--나가기]보\n",
      "그래 니가 이겼다\n",
      "가위 바위 보![q--나가기]q\n",
      "이긴횟수: 1\n"
     ]
    }
   ],
   "source": [
    "#Mission_9. 가위,바위,보 게임을 만들어주세요.. (이긴 횟수를 알려주세요.)\n",
    "import random\n",
    "hehe = 0\n",
    "game = ['가위','바위','보']\n",
    "user = input('가위 바위 보![q--나가기]')\n",
    "ri = random.randrange(len(game)) #렌덤인덱스 뽑기\n",
    "#user가 안 나갈때\n",
    "while user !='q':\n",
    "    while user == '가위':\n",
    "        if game[ri] == '보':\n",
    "            print('그래 니가 이겼다')\n",
    "            hehe+=1\n",
    "        elif game[ri] == '바위':\n",
    "            print('니가 졌지롱')\n",
    "        else:\n",
    "            print('비겼따')\n",
    "        break\n",
    "    while user == '보':\n",
    "        if game[ri] == '바위':\n",
    "            print('그래 니가 이겼다')\n",
    "            hehe+=1\n",
    "        elif game[ri] == '가위':\n",
    "            print('니가 졌지롱')\n",
    "        else:\n",
    "            print('비겼따')\n",
    "        break\n",
    "    while user == '바위':\n",
    "        if game[ri] == '가위':\n",
    "            print('그래 니가 이겼다')\n",
    "            hehe+=1\n",
    "        elif game[ri] == '보':\n",
    "            print('니가 졌지롱')\n",
    "        else:\n",
    "            print('비겼따')\n",
    "        break\n",
    "    user = input('가위 바위 보![q--나가기]')\n",
    "    ri = random.randrange(len(game))\n",
    "print(f'이긴횟수: {hehe}')\n",
    "        \n",
    "        \n"
   ]
  },
  {
   "cell_type": "code",
   "execution_count": 10,
   "metadata": {
    "id": "suxKQum6CXXz"
   },
   "outputs": [
    {
     "name": "stdout",
     "output_type": "stream",
     "text": [
      "얼마 줄래? 3800\n",
      "15 잔 뽑을수 있으며 잔액은 800원 입니다\n"
     ]
    }
   ],
   "source": [
    "#Mission_10. 커피 자판기의 계산프로그램을 만들려고 합니다.(최대 15잔을 뽑을 수 있어요. 잔당 200원)\n",
    "#            돈을 값을 입력 받으면 커피를 뽑을 수 있는 잔수와 잔액을 알려주시면 됩니다. \n",
    "while True:\n",
    "    money = int(input('얼마 줄래? '))\n",
    "    cup = money//200\n",
    "    change = money-cup*200\n",
    "    if money>=200 and money<=3000:\n",
    "        print(f'{cup} 잔 뽑을수 있으며 잔액은 {change}원 입니다')\n",
    "        break\n",
    "    elif money>3000:\n",
    "        change = money-15*200\n",
    "        print(f'15 잔 뽑을수 있으며 잔액은 {change}원 입니다')\n",
    "        break\n",
    "    else:\n",
    "        print('최소 200원이다')\n",
    "    "
   ]
  }
 ],
 "metadata": {
  "colab": {
   "provenance": []
  },
  "kernelspec": {
   "display_name": "Python 3 (ipykernel)",
   "language": "python",
   "name": "python3"
  },
  "language_info": {
   "codemirror_mode": {
    "name": "ipython",
    "version": 3
   },
   "file_extension": ".py",
   "mimetype": "text/x-python",
   "name": "python",
   "nbconvert_exporter": "python",
   "pygments_lexer": "ipython3",
   "version": "3.10.9"
  }
 },
 "nbformat": 4,
 "nbformat_minor": 1
}
